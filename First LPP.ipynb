{
 "cells": [
  {
   "cell_type": "markdown",
   "id": "f3c696ba-1778-4040-bb35-1de7a193e7f6",
   "metadata": {},
   "source": [
    "# Mathematical Opt\n",
    "- Goal/ Objective\n",
    "- Variables\n",
    "- Constraints"
   ]
  },
  {
   "cell_type": "markdown",
   "id": "2c1a63bf-1598-4431-b254-4d6f9296021d",
   "metadata": {},
   "source": [
    "![Linear Programming Problem Solving Step](LPPprocedure2.jpg)"
   ]
  },
  {
   "cell_type": "markdown",
   "id": "38d3270f-bac7-4c99-b152-8561ab1f2882",
   "metadata": {},
   "source": [
    "## Production Problem\n",
    "- Goal: *__Minimize Sales__* (AndroidPhone=$\\$900,$ FeaturePhone=$\\$1100$)\n",
    "- Variables: Android Phone Production Number = $50$, Feature Phone Production Number = $20$ \n",
    "- Constraints: Stores need $200$ Feature Phones, $500$ Android Phones for contracts, Factory has $2999.5$ Hours of Production Time. \n",
    "> How many of each phone should we make?"
   ]
  },
  {
   "cell_type": "code",
   "execution_count": 1,
   "id": "bff28a73-882c-47ce-8366-974d1a1a098b",
   "metadata": {},
   "outputs": [],
   "source": [
    "from docplex.mp.model import Model"
   ]
  },
  {
   "cell_type": "code",
   "execution_count": 2,
   "id": "2ced8ba7-a9cd-4d53-b991-f39b98926ec4",
   "metadata": {},
   "outputs": [],
   "source": [
    "# Here m is an instance of the model. Everything is going to be attached to our model. So, think this model as your problem. \n",
    "# We named our model and assigned it to m.\n",
    "m = Model(name='Phone Production')"
   ]
  },
  {
   "cell_type": "markdown",
   "id": "69bf05bf-6beb-4949-b8d1-90b1af8d3c73",
   "metadata": {},
   "source": [
    "## Variables\n",
    "***"
   ]
  },
  {
   "cell_type": "code",
   "execution_count": 3,
   "id": "33885cfc-ebe8-45db-b5f4-578aa7c2b941",
   "metadata": {},
   "outputs": [],
   "source": [
    "# Phone production Variables\n",
    "androidPP = m.continuous_var(name='android phones production') #androidPP = Android Phone Production\n",
    "featurePP = m.continuous_var(name='feature phones production') #featurePP = Feature Phone Production"
   ]
  },
  {
   "cell_type": "code",
   "execution_count": 4,
   "id": "a3019e47-7137-4379-9789-af31cd9329f3",
   "metadata": {},
   "outputs": [],
   "source": [
    "#Production Time Constants\n",
    "androidPT = 1.5  #androidPT = Android Production Time\n",
    "featurePT = 2    #featurePT = feature Production Time"
   ]
  },
  {
   "cell_type": "code",
   "execution_count": 5,
   "id": "753b73ec-c8f8-497c-a369-b1b206ac9df5",
   "metadata": {},
   "outputs": [],
   "source": [
    "#Phone Price\n",
    "androidprice = 900\n",
    "featureprice = 1100"
   ]
  },
  {
   "cell_type": "markdown",
   "id": "f5106508-9227-414e-a29d-52b0c33ab138",
   "metadata": {},
   "source": [
    "## Constraints\n",
    "***"
   ]
  },
  {
   "cell_type": "code",
   "execution_count": 6,
   "id": "cbe1d77c-6d31-4586-9956-3e038eb6889e",
   "metadata": {},
   "outputs": [],
   "source": [
    "androidpcs = m.add_constraint(androidPP>=500)  #androidpcs = Android Phone Constraints\n",
    "featurepcs = m.add_constraint(featurePP>=200)  #featurepcs = Feature Phone Constraints"
   ]
  },
  {
   "cell_type": "code",
   "execution_count": 7,
   "id": "ffe0e689-9344-40f9-ab11-2508f3511595",
   "metadata": {},
   "outputs": [],
   "source": [
    "#Production Constraint\n",
    "totalpcs = m.add_constraint(m.sum([androidPP*androidPT,featurePP*featurePT]) <= 2999.5) "
   ]
  },
  {
   "cell_type": "markdown",
   "id": "5c449610-dd71-48fb-951d-a841e87bd70c",
   "metadata": {},
   "source": [
    "## Objectives\n",
    "***"
   ]
  },
  {
   "cell_type": "code",
   "execution_count": 8,
   "id": "0cc2d847-1ea3-4c69-9124-283abfacc234",
   "metadata": {},
   "outputs": [],
   "source": [
    "m.maximize(androidPP*androidprice + featurePP*featureprice)"
   ]
  },
  {
   "cell_type": "code",
   "execution_count": 9,
   "id": "511508fb-4884-4c5b-b5f7-90575ac01b64",
   "metadata": {},
   "outputs": [],
   "source": [
    "solution = m.solve()"
   ]
  },
  {
   "cell_type": "code",
   "execution_count": 10,
   "id": "2b0cb7c4-e58a-4917-aa49-0b581213fdbb",
   "metadata": {},
   "outputs": [
    {
     "name": "stdout",
     "output_type": "stream",
     "text": [
      "solution for: Phone Production\n",
      "objective: 1779700.000\n",
      "status: OPTIMAL_SOLUTION(2)\n",
      "android phones production = 1733.000\n",
      "feature phones production = 200.000\n"
     ]
    }
   ],
   "source": [
    "solution.display()"
   ]
  }
 ],
 "metadata": {
  "kernelspec": {
   "display_name": "Python 3 (ipykernel)",
   "language": "python",
   "name": "python3"
  },
  "language_info": {
   "codemirror_mode": {
    "name": "ipython",
    "version": 3
   },
   "file_extension": ".py",
   "mimetype": "text/x-python",
   "name": "python",
   "nbconvert_exporter": "python",
   "pygments_lexer": "ipython3",
   "version": "3.11.9"
  }
 },
 "nbformat": 4,
 "nbformat_minor": 5
}
