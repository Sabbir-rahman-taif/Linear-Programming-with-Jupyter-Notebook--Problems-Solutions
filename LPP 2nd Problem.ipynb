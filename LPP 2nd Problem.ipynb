{
 "cells": [
  {
   "cell_type": "code",
   "execution_count": 1,
   "id": "60736847-9e72-408f-8874-e97e12bbdd70",
   "metadata": {},
   "outputs": [],
   "source": [
    "from docplex.mp.model import Model"
   ]
  },
  {
   "cell_type": "code",
   "execution_count": 2,
   "id": "37146274-fdcb-4482-bd27-3c1f2cffdafc",
   "metadata": {},
   "outputs": [],
   "source": [
    "newModel = Model(name='Resource Allocation')"
   ]
  },
  {
   "cell_type": "markdown",
   "id": "26196750-27de-419f-9f96-efb8ec97c28b",
   "metadata": {},
   "source": [
    "## Variables"
   ]
  },
  {
   "cell_type": "code",
   "execution_count": 3,
   "id": "b198e63a-c825-4aeb-9097-368f3ad8fe18",
   "metadata": {},
   "outputs": [],
   "source": [
    "x = newModel.integer_var(name='product A')\n",
    "y = newModel.integer_var(name='product B')"
   ]
  },
  {
   "cell_type": "markdown",
   "id": "3b62a8b7-cd3d-47c9-97e5-a0178ba1595e",
   "metadata": {},
   "source": [
    "## Objective/ Goal"
   ]
  },
  {
   "cell_type": "code",
   "execution_count": 4,
   "id": "7bfe8228-d377-4515-8591-2c3a3434f3c4",
   "metadata": {},
   "outputs": [],
   "source": [
    "newModel.maximize(50*x + 40*y)"
   ]
  },
  {
   "cell_type": "markdown",
   "id": "71a7fd99-f649-46db-9d2a-e14a2a49edbe",
   "metadata": {},
   "source": [
    "## Constraints"
   ]
  },
  {
   "cell_type": "code",
   "execution_count": 5,
   "id": "2ce8bb7c-e4bd-455b-b081-f5a0388fa1a3",
   "metadata": {},
   "outputs": [
    {
     "data": {
      "text/plain": [
       "docplex.mp.LinearConstraint[](3product A+2product B,LE,100)"
      ]
     },
     "execution_count": 5,
     "metadata": {},
     "output_type": "execute_result"
    }
   ],
   "source": [
    "#Labor hours constraints: 3hr for A, 2hr for B, total labour available = 100hr\n",
    "newModel.add_constraint(3*x + 2*y <= 100)"
   ]
  },
  {
   "cell_type": "code",
   "execution_count": 6,
   "id": "ac7ad107-a6e2-4733-a014-e2446564e0dc",
   "metadata": {},
   "outputs": [
    {
     "data": {
      "text/plain": [
       "docplex.mp.LinearConstraint[](4product A+3product B,LE,120)"
      ]
     },
     "execution_count": 6,
     "metadata": {},
     "output_type": "execute_result"
    }
   ],
   "source": [
    "#Raw materials constraint: 4kg of A, 3kg of B, Total materials available = 120kg\n",
    "newModel.add_constraint(4*x + 3*y <= 120)"
   ]
  },
  {
   "cell_type": "code",
   "execution_count": 10,
   "id": "de9021e3-f3ad-4aec-af3e-410d8d40ec9c",
   "metadata": {},
   "outputs": [
    {
     "data": {
      "text/plain": [
       "docplex.mp.LinearConstraint[min product B](product A,GE,5)"
      ]
     },
     "execution_count": 10,
     "metadata": {},
     "output_type": "execute_result"
    }
   ],
   "source": [
    "#Production capacity constraint: (Max 25 units of A, Max 30 units of B) and (at least 10 units of A, 5 units of B)\n",
    "newModel.add_constraint(x <= 25, \"max product A\")\n",
    "newModel.add_constraint(y <= 30, \"max product B\")\n",
    "\n",
    "newModel.add_constraint(x >= 10, \"min product A\")\n",
    "newModel.add_constraint(x >= 5, \"min product B\")"
   ]
  },
  {
   "cell_type": "markdown",
   "id": "346b804d-e09c-4662-95b1-b4a143d839e9",
   "metadata": {},
   "source": [
    "## Solution"
   ]
  },
  {
   "cell_type": "code",
   "execution_count": 8,
   "id": "0d81b3ab-5054-42d5-9fb4-f82ce16e4233",
   "metadata": {},
   "outputs": [],
   "source": [
    "solution = newModel.solve()"
   ]
  },
  {
   "cell_type": "code",
   "execution_count": 9,
   "id": "c42bcab6-2a5a-4cc6-a495-d31ef51d976a",
   "metadata": {},
   "outputs": [
    {
     "name": "stdout",
     "output_type": "stream",
     "text": [
      "solution for: Resource Allocation\n",
      "objective: 1560\n",
      "status: OPTIMAL_SOLUTION(2)\n",
      "product A = 12\n",
      "product B = 24\n"
     ]
    }
   ],
   "source": [
    "solution.display()"
   ]
  }
 ],
 "metadata": {
  "kernelspec": {
   "display_name": "Python 3 (ipykernel)",
   "language": "python",
   "name": "python3"
  },
  "language_info": {
   "codemirror_mode": {
    "name": "ipython",
    "version": 3
   },
   "file_extension": ".py",
   "mimetype": "text/x-python",
   "name": "python",
   "nbconvert_exporter": "python",
   "pygments_lexer": "ipython3",
   "version": "3.11.9"
  }
 },
 "nbformat": 4,
 "nbformat_minor": 5
}
