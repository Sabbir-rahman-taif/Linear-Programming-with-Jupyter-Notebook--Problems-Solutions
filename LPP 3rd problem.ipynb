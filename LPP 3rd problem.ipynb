{
 "cells": [
  {
   "cell_type": "markdown",
   "id": "c1a363e2-dadb-4309-b1dc-d78ea3783d6e",
   "metadata": {},
   "source": [
    "## Problem\n",
    " Minimize Objective Function \n",
    " Define and solve the following problem:\n",
    " Objective: Minimize 2x + 3y \n",
    " Constraints: \n",
    " 4x + y ≤ 15 \n",
    " x + 5y ≥ 10 \n",
    " x, y ≥ 0"
   ]
  },
  {
   "cell_type": "code",
   "execution_count": 1,
   "id": "c04e9f50-21b3-4bac-b841-cfbb08562373",
   "metadata": {},
   "outputs": [],
   "source": [
    "from docplex.mp.model import Model"
   ]
  },
  {
   "cell_type": "code",
   "execution_count": 2,
   "id": "40cbc0e2-0b6b-4925-a341-b1703f4980ad",
   "metadata": {},
   "outputs": [],
   "source": [
    "m = Model(name='Minimize problem')"
   ]
  },
  {
   "cell_type": "markdown",
   "id": "6f6abdbb-019c-4383-84c4-d4534336d3f8",
   "metadata": {},
   "source": [
    "## Variables"
   ]
  },
  {
   "cell_type": "code",
   "execution_count": 3,
   "id": "ad9d5aee-d0dc-4fd3-9e5b-a440dc9f828b",
   "metadata": {},
   "outputs": [],
   "source": [
    "a = m.continuous_var(name='given variable x')\n",
    "b = m.continuous_var(name='given variable y')"
   ]
  },
  {
   "cell_type": "markdown",
   "id": "05217a2e-9262-47f3-bcbf-d5ddae4fc113",
   "metadata": {},
   "source": [
    "## Objective/ Goal"
   ]
  },
  {
   "cell_type": "code",
   "execution_count": 4,
   "id": "63be8f89-f9db-4015-8792-4f4a449a9c0e",
   "metadata": {},
   "outputs": [],
   "source": [
    "m.minimize(2*a + 3*b)"
   ]
  },
  {
   "cell_type": "markdown",
   "id": "9988fb4b-bc47-4de4-ae7b-65adc5fd5708",
   "metadata": {},
   "source": [
    "## Constraints"
   ]
  },
  {
   "cell_type": "code",
   "execution_count": 6,
   "id": "636c9968-ad5f-4ee4-8147-a01956578d03",
   "metadata": {},
   "outputs": [
    {
     "data": {
      "text/plain": [
       "docplex.mp.LinearConstraint[](given variable y,GE,0)"
      ]
     },
     "execution_count": 6,
     "metadata": {},
     "output_type": "execute_result"
    }
   ],
   "source": [
    "m.add_constraint(4*a + b <= 15)\n",
    "m.add_constraint(a + 5*b >= 10)\n",
    "m.add_constraint(a >= 0)\n",
    "m.add_constraint(b >= 0)"
   ]
  },
  {
   "cell_type": "code",
   "execution_count": 7,
   "id": "c61775ea-ce0c-492a-b2cd-7eeb4fe2b7a8",
   "metadata": {},
   "outputs": [],
   "source": [
    "solve = m.solve()"
   ]
  },
  {
   "cell_type": "code",
   "execution_count": 8,
   "id": "8a13e05b-a4a1-4443-ab32-1ab6b096d7a2",
   "metadata": {},
   "outputs": [
    {
     "name": "stdout",
     "output_type": "stream",
     "text": [
      "solution for: Minimize problem\n",
      "objective: 6.000\n",
      "status: OPTIMAL_SOLUTION(2)\n",
      "given variable y = 2.000\n"
     ]
    }
   ],
   "source": [
    "solve.display()"
   ]
  }
 ],
 "metadata": {
  "kernelspec": {
   "display_name": "Python 3 (ipykernel)",
   "language": "python",
   "name": "python3"
  },
  "language_info": {
   "codemirror_mode": {
    "name": "ipython",
    "version": 3
   },
   "file_extension": ".py",
   "mimetype": "text/x-python",
   "name": "python",
   "nbconvert_exporter": "python",
   "pygments_lexer": "ipython3",
   "version": "3.11.9"
  }
 },
 "nbformat": 4,
 "nbformat_minor": 5
}
